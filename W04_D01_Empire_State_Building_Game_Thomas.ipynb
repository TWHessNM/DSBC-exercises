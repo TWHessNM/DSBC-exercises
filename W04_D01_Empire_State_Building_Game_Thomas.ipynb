{
  "cells": [
    {
      "cell_type": "markdown",
      "metadata": {
        "id": "view-in-github",
        "colab_type": "text"
      },
      "source": [
        "<a href=\"https://colab.research.google.com/github/ThomasAbeyta/Jaguar/blob/main/W04_D01_Empire_State_Building_Game_Thomas.ipynb\" target=\"_parent\"><img src=\"https://colab.research.google.com/assets/colab-badge.svg\" alt=\"Open In Colab\"/></a>"
      ]
    },
    {
      "cell_type": "markdown",
      "metadata": {
        "id": "Y0gj27yFkxcU"
      },
      "source": [
        "\n",
        "#Climbing The Steps of The Empire State Building Steps: The Game\n",
        "The objective is to create a Dice game logic, which will decide the odds of reaching Step number 60 of the Empire State Building in 100 rolls of the Dice. We would then simulate this sequence multiple times to calculate the probability of reaching step 60 in 100 tries using the Dice game logic.\n"
      ]
    },
    {
      "cell_type": "markdown",
      "metadata": {
        "id": "rIAQoik6k7EW"
      },
      "source": [
        "#Rules\n",
        "For each random walk sequence we throw a Die.\n",
        "1. Step 0 at ground level, is the starting point.\n",
        "2. If the roll of the Die returns 1 or 2, climb down one step.\n",
        "3. If the roll of the Die returns 3, 4 or 5, go up one step.\n",
        "4. If the roll of the Die returns 6, throw the Die again and advance the number of steps equal to that throw.\n",
        "5. There is a little chance of being clumsy and falling down the Stairs in which case we start again from 0.\n",
        "6. The value of Steps cannot be negative, the lowest value would always be 0 (which is the starting point)."
      ]
    },
    {
      "cell_type": "markdown",
      "metadata": {
        "id": "LcEXEE_PmsUr"
      },
      "source": [
        "#Some pointers that might help with the code:\n",
        "\n",
        "1. The function random.seed() may be used to make your results reproducible. \n",
        "2. To represent clumsiness of falling down, generate a random number between 0 and 1. If that number is less than .001, set the steps value to Zero as is the rule. \n",
        "3. You'll want to run the Dice game many times to calculate the probability of reaching step 60 in 100 rolls.\n",
        "\n",
        "\n"
      ]
    },
    {
      "cell_type": "markdown",
      "metadata": {
        "id": "aN2fhW-pk-fV"
      },
      "source": [
        "# Your Tasks\n",
        "1. Write code for the above Dice game. \n",
        "2. Estimate the probability of reaching step 60 in 100 rolls. \n",
        "3. Create a plot of your random walk results. "
      ]
    },
    {
      "cell_type": "markdown",
      "metadata": {
        "id": "EAZSqOf2noOe"
      },
      "source": [
        "# Solution\n"
      ]
    },
    {
      "cell_type": "code",
      "execution_count": null,
      "metadata": {
        "id": "-ZyeFqCFJLCO"
      },
      "outputs": [],
      "source": [
        "# goal = 60, fail = 65 range(0,101, i)\n",
        "# random generator, \n",
        "# if statement for 1 or 2 = -1\n",
        "# if statement for generating 3,4,5 = +1\n",
        "# if for 6 = roll again\n",
        "# .001 prob of step = 0\n",
        "# values must be above 0\n",
        "\n",
        "import random\n",
        "\n",
        "steps = 0\n",
        "i = 0\n",
        "roll_nums = 0\n",
        "\n",
        "di_roll = random.randint(0,7)\n",
        "\n",
        "while i < 5:\n",
        "  5\n",
        "  roll_nums += 1\n",
        "  if di_roll == 3:\n",
        "    steps += 1\n",
        "    i += steps\n",
        "    roll_nums += 1\n",
        "  if i == 5:\n",
        "    return roll_nums\n",
        "  print(roll_nums)"
      ]
    },
    {
      "cell_type": "code",
      "source": [
        "# goal = 60, (0,101, i)\n",
        "# random generator, \n",
        "# if statement for 1 or 2 = -1\n",
        "# if statement for generating 3,4,5 = +1\n",
        "# if for 6 = roll again\n",
        "# .001 prob of step = 0\n",
        "# values must be above 0\n",
        "\n",
        "import random\n",
        "\n",
        "\n",
        "def empire_steps():\n",
        "  steps = 0\n",
        "  i = 0\n",
        "  roll_nums = 0\n",
        "\n",
        "  while i < 60:\n",
        "    di_roll = random.randint(0,7)\n",
        "    roll_nums += 1\n",
        "    if di_roll == 3:\n",
        "      steps += 1\n",
        "      i += steps\n",
        "      roll_nums += 1\n",
        "    if roll_nums > 101:\n",
        "      print('You LOSE!')\n",
        "      return roll_nums\n",
        "  return roll_nums\n",
        "    \n",
        "print(empire_steps())"
      ],
      "metadata": {
        "colab": {
          "base_uri": "https://localhost:8080/"
        },
        "id": "h84Wh3NUB10D",
        "outputId": "5795979b-ad07-4545-e84a-93d007b41e67"
      },
      "execution_count": null,
      "outputs": [
        {
          "output_type": "stream",
          "name": "stdout",
          "text": [
            "95\n"
          ]
        }
      ]
    },
    {
      "cell_type": "code",
      "source": [
        "import random\n",
        " \n",
        "def odds():\n",
        "    wins = 0\n",
        "    for games_played in range (1,100):\n",
        "      step = 0\n",
        "      \n",
        "      for i in range(1,100):\n",
        "        di_roll = random.randint(1,6)\n",
        "      \n",
        "        if di_roll in [3,4,5]:\n",
        "          step += 1\n",
        "        if di_roll in [1,2] and step > 0:\n",
        "          step -= 1\n",
        "        di_roll2 = random.randint(1,6)\n",
        "        if di_roll == 6:\n",
        "          step += di_roll2\n",
        "        restart = random.uniform(0,1)\n",
        "        if restart < .001:\n",
        "          step = 0\n",
        "        if step == 60:\n",
        "          wins += 1\n",
        "          break\n",
        "        #print(i, step, wins)\n",
        "    return wins\n",
        "\n",
        "print(odds())\n",
        "\n",
        "        \n",
        "    #print(i, di_roll, step, di_roll2)"
      ],
      "metadata": {
        "colab": {
          "base_uri": "https://localhost:8080/"
        },
        "id": "Wo1fRdPpV9u_",
        "outputId": "6006f167-ff74-46a0-e587-0a0f9e741636"
      },
      "execution_count": null,
      "outputs": [
        {
          "output_type": "stream",
          "name": "stdout",
          "text": [
            "54\n"
          ]
        }
      ]
    },
    {
      "cell_type": "code",
      "source": [],
      "metadata": {
        "colab": {
          "base_uri": "https://localhost:8080/",
          "height": 132
        },
        "id": "Jfjv1lrZji4o",
        "outputId": "ba7ee5d2-a8c1-45c3-91d8-fc9c3d4dfea8"
      },
      "execution_count": null,
      "outputs": [
        {
          "output_type": "error",
          "ename": "SyntaxError",
          "evalue": "ignored",
          "traceback": [
            "\u001b[0;36m  File \u001b[0;32m\"<ipython-input-243-8077475ec287>\"\u001b[0;36m, line \u001b[0;32m1\u001b[0m\n\u001b[0;31m    print(def odds())\u001b[0m\n\u001b[0m          ^\u001b[0m\n\u001b[0;31mSyntaxError\u001b[0m\u001b[0;31m:\u001b[0m invalid syntax\n"
          ]
        }
      ]
    },
    {
      "cell_type": "code",
      "source": [
        "import random\n",
        "\n",
        "\n",
        "def 10_roll():\n",
        "  roll_nums =0\n",
        "  i=0\n",
        "\n",
        "  while i < 11:\n",
        "    di_roll = random.randint(0,7)\n",
        "    if di_roll:\n",
        "      print(di_roll)\n",
        "      roll_nums += 1\n",
        "    if roll_nums == 10:\n",
        "      return di_roll\n",
        "  return\n",
        "\n"
      ],
      "metadata": {
        "id": "--6FrYzcUW66"
      },
      "execution_count": null,
      "outputs": []
    },
    {
      "cell_type": "code",
      "source": [
        "\n",
        "\n",
        "import random\n",
        "\n",
        "\"\"\"goal empire_steps = 60, fail = 65 range(0,101, i)\n",
        "random generator, \n",
        "if statement for 1 or 2 = -1\n",
        "if statement for generating 3,4,5 = +1\n",
        "if for 6 = roll again\n",
        ".001 prob of step = 0\n",
        "values must be above 0\n",
        "\"\"\"\n",
        "def empire_steps():\n",
        "  steps = 0\n",
        "  i = 0\n",
        "  roll_nums = 0\n",
        "  lost = 0\n",
        "\n",
        "  while i < 60:\n",
        "    di_roll = random.randint(0,7)\n",
        "    roll_nums += 1\n",
        "\n",
        "    if di_roll in [3,4,5]:\n",
        "      steps += 1\n",
        "      i += steps\n",
        "      roll_nums += 1\n",
        "\n",
        "    if di_roll in [1,2] and steps >= 0:\n",
        "      i -= 1\n",
        "      steps -= 1\n",
        "      roll_nums += 1\n",
        "    \n",
        "    if di_roll == 6:\n",
        "      fall =random.randint(0,1)\n",
        "      if fall == .1:\n",
        "        steps = 0\n",
        "        print('You fell! lol!')\n",
        "    \n",
        "    if roll_nums >= 100:\n",
        "      print('You LOSE!')\n",
        "      lost += 1\n",
        "      return roll_nums\n",
        "    \n",
        "  return roll_nums\n",
        "\n",
        "print(empire_steps())"
      ],
      "metadata": {
        "colab": {
          "base_uri": "https://localhost:8080/"
        },
        "id": "8LrdfosuCuMp",
        "outputId": "e3065921-e5c7-4efd-b737-a61e2f199054"
      },
      "execution_count": null,
      "outputs": [
        {
          "output_type": "stream",
          "name": "stdout",
          "text": [
            "85\n"
          ]
        }
      ]
    }
  ],
  "metadata": {
    "colab": {
      "provenance": [],
      "include_colab_link": true
    },
    "kernelspec": {
      "display_name": "Python 3",
      "name": "python3"
    },
    "language_info": {
      "name": "python"
    }
  },
  "nbformat": 4,
  "nbformat_minor": 0
}